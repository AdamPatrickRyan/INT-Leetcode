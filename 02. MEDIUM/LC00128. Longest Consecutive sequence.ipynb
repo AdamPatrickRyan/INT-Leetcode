{
 "cells": [
  {
   "cell_type": "markdown",
   "id": "31e9d1b0",
   "metadata": {},
   "source": [
    "Given an unsorted array of integers nums, return the length of the longest consecutive elements sequence.\n",
    "\n",
    "You must write an algorithm that runs in O(n) time.\n",
    "\n",
    "Input: nums = [100,4,200,1,3,2]\\\n",
    "\n",
    "Output: 4\n",
    "\n",
    "Explanation: The longest consecutive elements sequence is [1, 2, 3, 4]. Therefore its length is 4.\n"
   ]
  },
  {
   "cell_type": "code",
   "execution_count": 53,
   "id": "cf79ec8b",
   "metadata": {},
   "outputs": [],
   "source": [
    "def longestConsecutive(nums):\n",
    "    \n",
    "    import numpy as np\n",
    "\n",
    "    if len(nums)==0:\n",
    "        return 0\n",
    "    if len(nums)==1:\n",
    "        return 1\n",
    "\n",
    "    longest_sequence=0\n",
    "\n",
    "    nums=np.sort(nums)\n",
    "    print(nums)\n",
    "\n",
    "    for k in range(0,len(nums)-1):\n",
    "        last_element=1\n",
    "        current_sequence=0\n",
    "        print(k)\n",
    "\n",
    "        while last_element+k <len(nums)-1:\n",
    "            \n",
    "            next_number=nums[k+last_element]\n",
    "            \n",
    "            if nums[k]+last_element==nums[k+last_element] or nums[k]==nums[k+last_element]:\n",
    "                current_sequence+=1\n",
    "                last_element+=1\n",
    "\n",
    "            else:\n",
    "                break\n",
    "\n",
    "        \n",
    "            \n",
    "        longest_sequence=max(current_sequence+1,longest_sequence)\n",
    "    \n",
    "    return longest_sequence\n",
    "        "
   ]
  },
  {
   "cell_type": "code",
   "execution_count": 54,
   "id": "d2a6ee61",
   "metadata": {},
   "outputs": [
    {
     "name": "stdout",
     "output_type": "stream",
     "text": [
      "[  1   1   2   3   4 100 200]\n",
      "0\n",
      "True\n",
      "False\n",
      "1\n",
      "False\n",
      "False\n",
      "False\n",
      "False\n",
      "2\n",
      "False\n",
      "False\n",
      "False\n",
      "3\n",
      "False\n",
      "False\n",
      "4\n",
      "False\n",
      "5\n"
     ]
    },
    {
     "data": {
      "text/plain": [
       "4"
      ]
     },
     "execution_count": 54,
     "metadata": {},
     "output_type": "execute_result"
    }
   ],
   "source": [
    "longestConsecutive(nums=[100,4,200,1,1,3,2])"
   ]
  },
  {
   "cell_type": "code",
   "execution_count": null,
   "id": "301e6783",
   "metadata": {},
   "outputs": [],
   "source": []
  }
 ],
 "metadata": {
  "kernelspec": {
   "display_name": "Python 3",
   "language": "python",
   "name": "python3"
  },
  "language_info": {
   "codemirror_mode": {
    "name": "ipython",
    "version": 3
   },
   "file_extension": ".py",
   "mimetype": "text/x-python",
   "name": "python",
   "nbconvert_exporter": "python",
   "pygments_lexer": "ipython3",
   "version": "3.8.8"
  }
 },
 "nbformat": 4,
 "nbformat_minor": 5
}
