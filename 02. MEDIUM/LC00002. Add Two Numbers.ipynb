{
 "cells": [
  {
   "cell_type": "markdown",
   "id": "3789d9a3",
   "metadata": {},
   "source": [
    "You are given two non-empty linked lists representing two non-negative integers. The digits are stored in reverse order, and each of their nodes contains a single digit. Add the two numbers and return the sum as a linked list.\n",
    "\n",
    "You may assume the two numbers do not contain any leading zero, except the number 0 itself."
   ]
  },
  {
   "cell_type": "code",
   "execution_count": 72,
   "id": "ba073aaf",
   "metadata": {},
   "outputs": [],
   "source": [
    "\n",
    "class ListNode:\n",
    "     def __init__(self, val=0, next_node=None):\n",
    "        self.val = val\n",
    "        self.next = next_node\n",
    "     def __str__(self):\n",
    "        return \"\\nValue: {} | Next: {}\".format(self.val,self.next)        \n",
    "     def __repr__(self):\n",
    "        return \"\\nValue: {} | Next: {}\".format(self.val,self.next)"
   ]
  },
  {
   "cell_type": "code",
   "execution_count": 73,
   "id": "a6dd13f2",
   "metadata": {},
   "outputs": [],
   "source": [
    "def addTwoNumbers(l1, l2):\n",
    "    #Linked List is stored in Reverse Order.\n",
    "    ## 3-4-2 = 243.\n",
    "    ##6-5-7-1=1756\n",
    "    \n",
    "    return_node=ListNode()\n",
    "    carry=0\n",
    "    total_digit=0\n",
    "    \n",
    "    #While both aren't none\n",
    "    while l1.next!=None and l2.next!=None:\n",
    "    \n",
    "        if total_digit==0:\n",
    "            head_node=return_node\n",
    "        \n",
    "        return_node.val=l1.val + l2.val + carry % 10\n",
    "        \n",
    "        if l1.val + l2.val + carry>9:\n",
    "            carry=1\n",
    "        else:\n",
    "            carry=0\n",
    "            \n",
    "        return_node.next=ListNode()\n",
    "        return_node=return_node.next\n",
    "        total_digit+=1\n",
    "        \n",
    "        if l1.next==None and l2.next!=None:\n",
    "            l1.next=ListNode()\n",
    "            \n",
    "        if l2.next==None:\n",
    "            l2.next=ListNode()\n",
    "                \n",
    "    return head_node\n",
    "        \n",
    "        "
   ]
  },
  {
   "cell_type": "code",
   "execution_count": 74,
   "id": "d558a308",
   "metadata": {},
   "outputs": [],
   "source": [
    "#l1 = [9,9,9,9,9,9,9], l2 = [9,9,9,9]\n",
    "\n",
    "l1=ListNode(val=9,next_node=ListNode(val=9,next_node=ListNode(val=9,next_node=ListNode(val=9,next_node=ListNode(val=9,next_node=ListNode(val=9,next_node=None))))))"
   ]
  },
  {
   "cell_type": "code",
   "execution_count": 75,
   "id": "9c309630",
   "metadata": {},
   "outputs": [],
   "source": [
    "l2=ListNode(val=9,next_node=ListNode(val=9,next_node=ListNode(val=9,next_node=ListNode(val=9,next_node=None))))"
   ]
  },
  {
   "cell_type": "code",
   "execution_count": 76,
   "id": "7c495437",
   "metadata": {},
   "outputs": [
    {
     "data": {
      "text/plain": [
       "\n",
       "Value: 9 | Next: \n",
       "Value: 9 | Next: \n",
       "Value: 9 | Next: \n",
       "Value: 9 | Next: \n",
       "Value: 9 | Next: \n",
       "Value: 9 | Next: None"
      ]
     },
     "execution_count": 76,
     "metadata": {},
     "output_type": "execute_result"
    }
   ],
   "source": [
    "l1"
   ]
  },
  {
   "cell_type": "code",
   "execution_count": 55,
   "id": "af8042d8",
   "metadata": {},
   "outputs": [
    {
     "data": {
      "text/plain": [
       "<__main__.ListNode at 0x7fd1df172340>"
      ]
     },
     "execution_count": 55,
     "metadata": {},
     "output_type": "execute_result"
    }
   ],
   "source": [
    "l2"
   ]
  },
  {
   "cell_type": "code",
   "execution_count": 126,
   "id": "f03b278b",
   "metadata": {},
   "outputs": [],
   "source": [
    "def addTwoNumbers(l1, l2):\n",
    "    \"\"\"A function to add two linked lists\"\"\"\n",
    "    \n",
    "    return_value=ListNode(0)\n",
    "    current_node=return_value\n",
    "    carry=0\n",
    "\n",
    "    values=[]\n",
    "\n",
    "    while l1!=None or l2!=None:\n",
    "\n",
    "        l1_value=0\n",
    "        l2_value=0\n",
    "\n",
    "        if isinstance(l1,ListNode):\n",
    "            l1_value=l1.val\n",
    "            l1=l1.next\n",
    "\n",
    "        if isinstance(l2,ListNode):\n",
    "            l2_value=l2.val\n",
    "            l2=l2.next\n",
    "\n",
    "            \n",
    "        #Deal with Storing the \n",
    "        if l1_value+l2_value+carry>9:\n",
    "            current_node.val=(l1_value+l2_value+carry)%10\n",
    "            carry=1\n",
    "        else:\n",
    "            current_node.val=(l1_value+l2_value+carry)%10\n",
    "            carry=0\n",
    "\n",
    "        if l1!=None or l2!=None:\n",
    "            current_node.next=ListNode(0)\n",
    "            current_node=current_node.next\n",
    "\n",
    "        else:\n",
    "            if carry==1:\n",
    "                current_node.next=ListNode(1)\n",
    "\n",
    "\n",
    "\n",
    "    return return_value"
   ]
  },
  {
   "cell_type": "code",
   "execution_count": 127,
   "id": "98ef7092",
   "metadata": {},
   "outputs": [],
   "source": [
    "l1=ListNode(2,ListNode(4,ListNode(3)))\n",
    "l2=ListNode(5,ListNode(6,ListNode(4)))"
   ]
  },
  {
   "cell_type": "code",
   "execution_count": 128,
   "id": "04b90cf8",
   "metadata": {},
   "outputs": [
    {
     "name": "stdout",
     "output_type": "stream",
     "text": [
      "7\n",
      "10\n",
      "8\n"
     ]
    }
   ],
   "source": [
    "out=addTwoNumbers(l1=l1, l2=l2)"
   ]
  },
  {
   "cell_type": "code",
   "execution_count": 121,
   "id": "aa04c0fc",
   "metadata": {},
   "outputs": [
    {
     "data": {
      "text/plain": [
       "\n",
       "Value: 7 | Next: \n",
       "Value: 0 | Next: \n",
       "Value: 8 | Next: None"
      ]
     },
     "execution_count": 121,
     "metadata": {},
     "output_type": "execute_result"
    }
   ],
   "source": [
    "out"
   ]
  },
  {
   "cell_type": "code",
   "execution_count": 46,
   "id": "37f700ee",
   "metadata": {},
   "outputs": [
    {
     "data": {
      "text/plain": [
       "0"
      ]
     },
     "execution_count": 46,
     "metadata": {},
     "output_type": "execute_result"
    }
   ],
   "source": [
    "out.next.val"
   ]
  },
  {
   "cell_type": "code",
   "execution_count": 47,
   "id": "43894f9a",
   "metadata": {},
   "outputs": [
    {
     "ename": "AttributeError",
     "evalue": "'NoneType' object has no attribute 'val'",
     "output_type": "error",
     "traceback": [
      "\u001b[0;31m---------------------------------------------------------------------------\u001b[0m",
      "\u001b[0;31mAttributeError\u001b[0m                            Traceback (most recent call last)",
      "\u001b[0;32m<ipython-input-47-c4c6d9182a16>\u001b[0m in \u001b[0;36m<module>\u001b[0;34m\u001b[0m\n\u001b[0;32m----> 1\u001b[0;31m \u001b[0mout\u001b[0m\u001b[0;34m.\u001b[0m\u001b[0mnext\u001b[0m\u001b[0;34m.\u001b[0m\u001b[0mnext\u001b[0m\u001b[0;34m.\u001b[0m\u001b[0mval\u001b[0m\u001b[0;34m\u001b[0m\u001b[0;34m\u001b[0m\u001b[0m\n\u001b[0m",
      "\u001b[0;31mAttributeError\u001b[0m: 'NoneType' object has no attribute 'val'"
     ]
    }
   ],
   "source": [
    "out.next.next.val"
   ]
  },
  {
   "cell_type": "code",
   "execution_count": null,
   "id": "80035f85",
   "metadata": {},
   "outputs": [],
   "source": []
  }
 ],
 "metadata": {
  "kernelspec": {
   "display_name": "Python 3",
   "language": "python",
   "name": "python3"
  },
  "language_info": {
   "codemirror_mode": {
    "name": "ipython",
    "version": 3
   },
   "file_extension": ".py",
   "mimetype": "text/x-python",
   "name": "python",
   "nbconvert_exporter": "python",
   "pygments_lexer": "ipython3",
   "version": "3.8.8"
  }
 },
 "nbformat": 4,
 "nbformat_minor": 5
}
