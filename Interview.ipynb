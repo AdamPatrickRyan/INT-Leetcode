{
 "cells": [
  {
   "cell_type": "markdown",
   "id": "2c06b53b",
   "metadata": {},
   "source": [
    "# Project 1\n",
    "\n",
    "-Suppose two lists in ascending order\n",
    "-Takes two ordered lists\n",
    "-Limit an integer\n",
    "-Returns Merged list [0]\n",
    "-In ascending order\n",
    "\n",
    "---\n",
    "\n",
    "\n",
    "# Project 2\n",
    "\n",
    "-Most frequently substring 'engineering',n=2"
   ]
  },
  {
   "cell_type": "code",
   "execution_count": 21,
   "id": "bd44eb07",
   "metadata": {},
   "outputs": [],
   "source": [
    "def merge_lists_up_to_limit(list_one=[],list_two=[],limit=0):\n",
    "    \"\"\"\n",
    "    A function to merge two lists\n",
    "    \n",
    "    Inputs:\n",
    "    list_one : List\n",
    "    list_two:List\n",
    "    Limit=int\n",
    "    \"\"\"\n",
    "    \n",
    "    if not isinstance(list_one, list):\n",
    "        raise ValueError(\"This is not a list\")\n",
    "    \n",
    "\n",
    "    if not isinstance(list_two, list):\n",
    "        raise ValueError(\"This is not a list\")\n",
    "        \n",
    "\n",
    "    if not isinstance(limit, int):\n",
    "        raise ValueError(\"This is not an integer\")\n",
    "        \n",
    "    if limit<=0:\n",
    "        return []\n",
    "    \n",
    "    length_a=len(list_one)\n",
    "    length_b=len(list_two)\n",
    "    \n",
    "    a_index=0\n",
    "    b_index=0\n",
    "    return_list=[]\n",
    "    \n",
    "    \n",
    "\n",
    "    #While we still have characters left\n",
    "    while (a_index<=length_a and b_index<=length_b and len(return_list)<limit):\n",
    "        \n",
    "        if a_index+b_index==length_a+length_b:\n",
    "            return return_list\n",
    "        \n",
    "        #Protect agaisnt case of a_index runnign out\n",
    "        if a_index==length_a:\n",
    "            return_list+=[list_two[b_index]]\n",
    "            b_index+=1\n",
    "            \n",
    "         \n",
    "        #Protect agaisnt case of b_index runnign out\n",
    "        elif b_index==length_b:\n",
    "            return_list+=[list_two[a_index]]\n",
    "            a_index+=1\n",
    "            \n",
    "            \n",
    "        else:\n",
    "            #Value in List one is less than list two\n",
    "            if list_one[a_index]<list_two[b_index]:\n",
    "                return_list+=[list_one[a_index]]\n",
    "                a_index+=1\n",
    "\n",
    "            #Value in list two is less than list one\n",
    "            else:\n",
    "                return_list+=[list_two[b_index]]\n",
    "                b_index+=1\n",
    "\n",
    "            #Not needed\n",
    "            if len(return_list)==limit:\n",
    "                return return_list\n",
    "\n",
    "            \n",
    "\n",
    "            \n",
    "    return return_list\n",
    "    "
   ]
  },
  {
   "cell_type": "code",
   "execution_count": null,
   "id": "00e42451",
   "metadata": {},
   "outputs": [],
   "source": []
  },
  {
   "cell_type": "code",
   "execution_count": 12,
   "id": "c33ff4ee",
   "metadata": {},
   "outputs": [],
   "source": [
    "test_one_list_a = [1, 3, 5]\n",
    "test_one_list_b = [2, 6, 8, 9,10]\n",
    "test_one_limit=3\n",
    "limit = 3"
   ]
  },
  {
   "cell_type": "code",
   "execution_count": 16,
   "id": "aa1cc866",
   "metadata": {},
   "outputs": [],
   "source": [
    "test_two_list_a = [1, 3, 5]\n",
    "test_two_list_b = [2, 6, 8, 9,10]\n",
    "test_two_limit=4"
   ]
  },
  {
   "cell_type": "code",
   "execution_count": 19,
   "id": "a815b204",
   "metadata": {},
   "outputs": [],
   "source": [
    "test_three_list_a = []\n",
    "test_three_list_b = [2, 6, 8, 9,10]\n",
    "test_three_limit=4"
   ]
  },
  {
   "cell_type": "code",
   "execution_count": 22,
   "id": "c465cfa7",
   "metadata": {},
   "outputs": [],
   "source": [
    "test_four_list_a = []\n",
    "test_four_list_b = [2, 6, 8, 9,10]\n",
    "test_four_limit=6"
   ]
  },
  {
   "cell_type": "code",
   "execution_count": 24,
   "id": "b1cb3ee1",
   "metadata": {},
   "outputs": [],
   "source": [
    "test_five_list_a = [1]\n",
    "test_five_list_b = [2, 6, 8, 9,10]\n",
    "test_five_limit=7"
   ]
  },
  {
   "cell_type": "code",
   "execution_count": null,
   "id": "b1ae8649",
   "metadata": {},
   "outputs": [],
   "source": [
    "merge_lists_up_to_limit(list_one=test_one_list_a\n",
    "                        ,list_two=test_one_list_b\n",
    "                        ,limit=test_ione_limit)"
   ]
  },
  {
   "cell_type": "code",
   "execution_count": 17,
   "id": "972512ab",
   "metadata": {},
   "outputs": [
    {
     "data": {
      "text/plain": [
       "[1, 2, 3, 5]"
      ]
     },
     "execution_count": 17,
     "metadata": {},
     "output_type": "execute_result"
    }
   ],
   "source": [
    "merge_lists_up_to_limit(list_one=test_two_list_a\n",
    "                        ,list_two=test_two_list_b\n",
    "                        ,limit=test_two_limit)"
   ]
  },
  {
   "cell_type": "code",
   "execution_count": 20,
   "id": "5164c78b",
   "metadata": {},
   "outputs": [
    {
     "data": {
      "text/plain": [
       "[2, 6, 8, 9]"
      ]
     },
     "execution_count": 20,
     "metadata": {},
     "output_type": "execute_result"
    }
   ],
   "source": [
    "merge_lists_up_to_limit(list_one=test_three_list_a\n",
    "                        ,list_two=test_three_list_b\n",
    "                        ,limit=test_three_limit)"
   ]
  },
  {
   "cell_type": "code",
   "execution_count": 23,
   "id": "16af57e3",
   "metadata": {},
   "outputs": [
    {
     "data": {
      "text/plain": [
       "[2, 6, 8, 9, 10]"
      ]
     },
     "execution_count": 23,
     "metadata": {},
     "output_type": "execute_result"
    }
   ],
   "source": [
    "merge_lists_up_to_limit(list_one=test_four_list_a\n",
    "                        ,list_two=test_four_list_b\n",
    "                        ,limit=test_four_limit)"
   ]
  },
  {
   "cell_type": "code",
   "execution_count": 25,
   "id": "334ac8c9",
   "metadata": {},
   "outputs": [
    {
     "data": {
      "text/plain": [
       "[1, 2, 6, 8, 9, 10]"
      ]
     },
     "execution_count": 25,
     "metadata": {},
     "output_type": "execute_result"
    }
   ],
   "source": [
    "merge_lists_up_to_limit(list_one=test_five_list_a\n",
    "                        ,list_two=test_five_list_b\n",
    "                        ,limit=test_five_limit)"
   ]
  },
  {
   "cell_type": "code",
   "execution_count": 26,
   "id": "3efead66",
   "metadata": {},
   "outputs": [
    {
     "data": {
      "text/plain": [
       "'ng'"
      ]
     },
     "execution_count": 26,
     "metadata": {},
     "output_type": "execute_result"
    }
   ],
   "source": [
    "'inengineering'[1:3]"
   ]
  },
  {
   "cell_type": "code",
   "execution_count": 44,
   "id": "81cc5cfa",
   "metadata": {},
   "outputs": [],
   "source": [
    "def ngram_count_limit(limit=2,word='inengineering'):\n",
    "    \"\"\"A functiont o return most frequently occurring substring\"\"\"\n",
    "    \n",
    "    \n",
    "    if not isinstance(word, str):\n",
    "        raise ValueError(\"Not a string\")\n",
    "        \n",
    "        \n",
    "    if not isinstance(word, str):\n",
    "        raise ValueError(\"Not a string\")\n",
    "        \n",
    "        \n",
    "        \n",
    "        \n",
    "    seen_characters=dict({})\n",
    "    length_of_word=len(word)\n",
    "    result=''\n",
    "    max_count=0\n",
    "\n",
    "    for start_position in range(0,length_of_word-limit):\n",
    "        \n",
    "        #Fix index later\n",
    "        substring=word[start_position:start_position+limit]\n",
    "        \n",
    "        if substring in seen_characters:\n",
    "            seen_characters[substring]+=1\n",
    "            \n",
    "        else:\n",
    "            seen_characters[substring]=1\n",
    "            \n",
    "        \n",
    "        if seen_characters[substring]>=max_count:\n",
    "            max_count=seen_characters[substring]\n",
    "            result=substring\n",
    "            \n",
    "        \n",
    "    return max_count,result\n",
    "                \n",
    "        \n",
    "            \n",
    "            \n",
    "        \n",
    "        \n",
    "    "
   ]
  },
  {
   "cell_type": "code",
   "execution_count": 45,
   "id": "02112b11",
   "metadata": {},
   "outputs": [
    {
     "data": {
      "text/plain": [
       "(3, 'in')"
      ]
     },
     "execution_count": 45,
     "metadata": {},
     "output_type": "execute_result"
    }
   ],
   "source": [
    "count, result = ngram_count_limit(limit=2,word='inengineering')\n",
    "count,result"
   ]
  },
  {
   "cell_type": "code",
   "execution_count": 34,
   "id": "5ae92844",
   "metadata": {},
   "outputs": [
    {
     "data": {
      "text/plain": [
       "'in'"
      ]
     },
     "execution_count": 34,
     "metadata": {},
     "output_type": "execute_result"
    }
   ],
   "source": [
    "'inengineering'[0:2]"
   ]
  },
  {
   "cell_type": "code",
   "execution_count": null,
   "id": "423bf9a8",
   "metadata": {},
   "outputs": [],
   "source": []
  }
 ],
 "metadata": {
  "kernelspec": {
   "display_name": "Python 3",
   "language": "python",
   "name": "python3"
  },
  "language_info": {
   "codemirror_mode": {
    "name": "ipython",
    "version": 3
   },
   "file_extension": ".py",
   "mimetype": "text/x-python",
   "name": "python",
   "nbconvert_exporter": "python",
   "pygments_lexer": "ipython3",
   "version": "3.8.8"
  }
 },
 "nbformat": 4,
 "nbformat_minor": 5
}
