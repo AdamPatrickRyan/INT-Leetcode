{
 "cells": [
  {
   "cell_type": "markdown",
   "id": "519f465d",
   "metadata": {},
   "source": [
    "You are given two non-empty linked lists representing two non-negative integers. The digits are stored in reverse order, and each of their nodes contains a single digit. Add the two numbers and return the sum as a linked list.\n",
    "\n",
    "You may assume the two numbers do not contain any leading zero, except the number 0 itself."
   ]
  },
  {
   "cell_type": "code",
   "execution_count": 129,
   "id": "21015519",
   "metadata": {},
   "outputs": [],
   "source": [
    "class ListNode:\n",
    "     def __init__(self, val=0, next_node=None):\n",
    "        self.val = val\n",
    "        self.next = next_node\n",
    "     def __str__(self):\n",
    "        return \"\\nValue: {} | Next: {}\".format(self.val,self.next)        \n",
    "     def __repr__(self):\n",
    "        return \"\\nValue: {} | Next: {}\".format(self.val,self.next)"
   ]
  },
  {
   "cell_type": "code",
   "execution_count": 137,
   "id": "b2243bdc",
   "metadata": {},
   "outputs": [],
   "source": [
    "def addTwoNumbers(l1, l2):\n",
    "    \"\"\"A function to add two linked lists\"\"\"\n",
    "    \n",
    "    return_value=ListNode(0)\n",
    "    current_node=return_value\n",
    "    carry=0\n",
    "\n",
    "    values=[]\n",
    "\n",
    "    while l1!=None or l2!=None:\n",
    "\n",
    "        l1_value=0\n",
    "        l2_value=0\n",
    "\n",
    "        if isinstance(l1,ListNode):\n",
    "            l1_value=l1.val\n",
    "            l1=l1.next\n",
    "\n",
    "        if isinstance(l2,ListNode):\n",
    "            l2_value=l2.val\n",
    "            l2=l2.next\n",
    "\n",
    "            \n",
    "        #Deal with Storing the digit\n",
    "        if l1_value+l2_value+carry>9:\n",
    "            current_node.val=(l1_value+l2_value+carry)%10\n",
    "            carry=1\n",
    "        else:\n",
    "            current_node.val=(l1_value+l2_value+carry)%10\n",
    "            carry=0\n",
    "\n",
    "        #Adding on another node if needed\n",
    "        if l1!=None or l2!=None:\n",
    "            current_node.next=ListNode(0)\n",
    "            current_node=current_node.next\n",
    "\n",
    "        #Both are none, if there's a carry then add it.\n",
    "        else:\n",
    "            if carry==1:\n",
    "                current_node.next=ListNode(1)\n",
    "\n",
    "\n",
    "\n",
    "    return return_value"
   ]
  },
  {
   "cell_type": "code",
   "execution_count": 138,
   "id": "a53c4c1e",
   "metadata": {},
   "outputs": [],
   "source": [
    "#l1 = [9,9,9,9,9,9,9], l2 = [9,9,9,9]\n",
    "\n",
    "l1=ListNode(val=9,next_node=ListNode(val=9,next_node=ListNode(val=9,next_node=ListNode(val=9,next_node=ListNode(val=9,next_node=ListNode(val=9,next_node=None))))))"
   ]
  },
  {
   "cell_type": "code",
   "execution_count": 139,
   "id": "1ba7e91b",
   "metadata": {},
   "outputs": [],
   "source": [
    "l2=ListNode(val=9,next_node=ListNode(val=9,next_node=ListNode(val=9,next_node=ListNode(val=9,next_node=None))))"
   ]
  },
  {
   "cell_type": "code",
   "execution_count": 140,
   "id": "5b5826a6",
   "metadata": {},
   "outputs": [
    {
     "data": {
      "text/plain": [
       "\n",
       "Value: 8 | Next: \n",
       "Value: 9 | Next: \n",
       "Value: 9 | Next: \n",
       "Value: 9 | Next: \n",
       "Value: 0 | Next: \n",
       "Value: 0 | Next: \n",
       "Value: 1 | Next: None"
      ]
     },
     "execution_count": 140,
     "metadata": {},
     "output_type": "execute_result"
    }
   ],
   "source": [
    "out=addTwoNumbers(l1=l1, l2=l2)\n",
    "out"
   ]
  },
  {
   "cell_type": "code",
   "execution_count": 141,
   "id": "37d87def",
   "metadata": {},
   "outputs": [],
   "source": [
    "l1=ListNode(2,ListNode(4,ListNode(3)))\n",
    "l2=ListNode(5,ListNode(6,ListNode(4)))"
   ]
  },
  {
   "cell_type": "code",
   "execution_count": 142,
   "id": "bcff34fc",
   "metadata": {},
   "outputs": [
    {
     "data": {
      "text/plain": [
       "\n",
       "Value: 7 | Next: \n",
       "Value: 0 | Next: \n",
       "Value: 8 | Next: None"
      ]
     },
     "execution_count": 142,
     "metadata": {},
     "output_type": "execute_result"
    }
   ],
   "source": [
    "out=addTwoNumbers(l1=l1, l2=l2)\n",
    "out"
   ]
  },
  {
   "cell_type": "code",
   "execution_count": null,
   "id": "e8d93b8a",
   "metadata": {},
   "outputs": [],
   "source": []
  }
 ],
 "metadata": {
  "kernelspec": {
   "display_name": "Python 3",
   "language": "python",
   "name": "python3"
  },
  "language_info": {
   "codemirror_mode": {
    "name": "ipython",
    "version": 3
   },
   "file_extension": ".py",
   "mimetype": "text/x-python",
   "name": "python",
   "nbconvert_exporter": "python",
   "pygments_lexer": "ipython3",
   "version": "3.8.8"
  }
 },
 "nbformat": 4,
 "nbformat_minor": 5
}
