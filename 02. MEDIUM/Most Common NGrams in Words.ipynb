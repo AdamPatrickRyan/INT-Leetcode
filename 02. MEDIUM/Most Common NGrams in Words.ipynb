{
 "cells": [
  {
   "cell_type": "markdown",
   "id": "405ac03f",
   "metadata": {},
   "source": [
    "# A function to get the most common ngrams in words.\n",
    "\n",
    "And n-gram is considered as k consecutive characters within a word. "
   ]
  },
  {
   "cell_type": "code",
   "execution_count": 177,
   "id": "4f47e16f",
   "metadata": {},
   "outputs": [],
   "source": [
    "def most_recurring(k,words,case_insensitive=False):\n",
    "    \"\"\"A function to get most common n-grams\n",
    "    \n",
    "    Input: \n",
    "    k:int\n",
    "    \"\"\"\n",
    "\n",
    "    if not isinstance(words,str):\n",
    "        raise ValueError(\"Words must be a string. You entered something of type: {}\".format(type(words)))\n",
    "    if not isinstance(k,int):\n",
    "        raise ValueError(\"K must be a string. You entered something of type: {}\".format(type(k)))\n",
    "    \n",
    "    if k>len(words):\n",
    "        raise ValueError(\"K must be less than the number of characters in your word\")\n",
    "    elif k==len(words):\n",
    "        return 1, words, dict({words:len(words)})\n",
    "    elif k<1:\n",
    "        raise ValueError(\"K must be postivie\")\n",
    "    \n",
    "    if case_insensitive:\n",
    "        words=words.lower()\n",
    "    \n",
    "    seen_ngrams=dict({})\n",
    "    max_count=0\n",
    "    result=''\n",
    "    \n",
    "    for index in range(k,len(words)+1):\n",
    "        substring=words[index-k:index]\n",
    "        \n",
    "        if substring in seen_ngrams:\n",
    "            seen_ngrams[substring]+=1\n",
    "        else:\n",
    "            seen_ngrams[substring]=1\n",
    "            \n",
    "        if seen_ngrams[substring]>max_count:\n",
    "            result=substring\n",
    "            max_count=seen_ngrams[substring]\n",
    "            \n",
    "        elif seen_ngrams[substring]==max_count and substring<result:\n",
    "            result=substring\n",
    "            \n",
    "    return max_count,result,seen_ngrams\n",
    "            \n",
    "            \n",
    "        \n",
    "    "
   ]
  },
  {
   "cell_type": "code",
   "execution_count": 182,
   "id": "864d2f55",
   "metadata": {},
   "outputs": [
    {
     "data": {
      "text/plain": [
       "(2, 'Ab', {'Ab': 2, 'bA': 1, 'ba': 1})"
      ]
     },
     "execution_count": 182,
     "metadata": {},
     "output_type": "execute_result"
    }
   ],
   "source": [
    "most_recurring(k=2,words='AbAba',case_insensitive=False)"
   ]
  },
  {
   "cell_type": "code",
   "execution_count": null,
   "id": "ce902b96",
   "metadata": {},
   "outputs": [],
   "source": []
  },
  {
   "cell_type": "code",
   "execution_count": null,
   "id": "63d339c3",
   "metadata": {},
   "outputs": [],
   "source": []
  }
 ],
 "metadata": {
  "kernelspec": {
   "display_name": "Python 3",
   "language": "python",
   "name": "python3"
  },
  "language_info": {
   "codemirror_mode": {
    "name": "ipython",
    "version": 3
   },
   "file_extension": ".py",
   "mimetype": "text/x-python",
   "name": "python",
   "nbconvert_exporter": "python",
   "pygments_lexer": "ipython3",
   "version": "3.8.8"
  }
 },
 "nbformat": 4,
 "nbformat_minor": 5
}
