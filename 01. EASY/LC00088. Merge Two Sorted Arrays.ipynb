{
 "cells": [
  {
   "cell_type": "markdown",
   "id": "c69ee94f",
   "metadata": {},
   "source": [
    "You are given two integer arrays nums1 and nums2, sorted in non-decreasing order, and two integers m and n, representing the number of elements in nums1 and nums2 respectively.\n",
    "\n",
    "Merge nums1 and nums2 into a single array sorted in non-decreasing order.\n",
    "\n",
    "The final sorted array should not be returned by the function, but instead be stored inside the array nums1. To accommodate this, nums1 has a length of m + n, where the first m elements denote the elements that should be merged, and the last n elements are set to 0 and should be ignored. nums2 has a length of n.\n",
    "\n",
    "nums1=[1,2,3,0]\n",
    "nums2=[1,2,5,6]"
   ]
  },
  {
   "cell_type": "code",
   "execution_count": 1,
   "id": "3ff88f4a",
   "metadata": {},
   "outputs": [],
   "source": [
    "def merge_sorted_array(num1,nums2,m,n):\n",
    "    \n",
    "    nums = nums1[:m]\n",
    "\n",
    "    nums1_index = 0\n",
    "    nums2_index = 0\n",
    "\n",
    "    while nums1_index < m or nums2_index < n:\n",
    "        # i == m means we reached the end of nums1\n",
    "        if nums1_index == m:\n",
    "            nums1[nums1_index + nums2_index] = nums2[nums2_index]\n",
    "            nums2_index += 1\n",
    "        # j == n means we reached the end of nums2\n",
    "        elif nums2_index == n:\n",
    "            nums1[nums1_index + nums2_index] = nums[nums1_index]\n",
    "            nums1_index += 1\n",
    "        else:\n",
    "            if nums[nums1_index] < nums2[nums2_index]:\n",
    "                nums1[nums1_index + j] = nums[nums1_index]\n",
    "                nums1_index += 1\n",
    "            else:\n",
    "                nums1[nums1_index + nums2_index] = nums2[nums2_index]\n",
    "                nums2_index += 1     "
   ]
  },
  {
   "cell_type": "code",
   "execution_count": 3,
   "id": "6472ba82",
   "metadata": {},
   "outputs": [],
   "source": [
    "def merge_sorted_array(num1,nums2,m,n):\n",
    "    \"\"\"Merging two extra arrays\"\"\"\n",
    "    \n",
    "    nums1_index = 0\n",
    "    nums2_index = 0\n",
    "    num1_orig = nums1[:m]\n",
    "\n",
    "    while nums1_index < m or nums2_index < n:\n",
    "\n",
    "        #End of Nums 1, so keep adding nums 2 to end \n",
    "        if nums1_index==m:\n",
    "            nums1[nums1_index+nums2_index]=nums2[nums2_index]\n",
    "            nums2_index+=1\n",
    "\n",
    "        #End of Nums 1, so keep adding nums 1 to end\n",
    "        elif nums2_index==n:\n",
    "            nums1[nums1_index+nums2_index]=num1_orig[nums1_index]\n",
    "            nums1_index+=1\n",
    "\n",
    "        else:\n",
    "            #Num1 <= Num2\n",
    "            if num1_orig[nums1_index]<=nums2[nums2_index]:\n",
    "                nums1[nums1_index+nums2_index]=num1_orig[nums1_index]\n",
    "                nums1_index+=1\n",
    "                \n",
    "            #Num2>Num1\n",
    "            else:\n",
    "                nums1[nums1_index+nums2_index]=nums2[nums2_index]\n",
    "                nums2_index+=1\n",
    "            \n",
    "        "
   ]
  },
  {
   "cell_type": "code",
   "execution_count": 53,
   "id": "6520e903",
   "metadata": {},
   "outputs": [],
   "source": [
    "def better_merge_sorted_array(nums1,nums2,m,n):\n",
    "    \n",
    "    #Last index: 3 + 3 - 1 = 0,5\n",
    "    last=m+n-1\n",
    "    \n",
    "    while m>0 and n>0:\n",
    "    \n",
    "        if nums1[m-1]>=nums2[n-1]:\n",
    "            nums1[last]=nums1[m-1]\n",
    "            m-=1\n",
    "\n",
    "        else:\n",
    "            nums1[last]=nums2[n-1]\n",
    "            n-=1\n",
    "\n",
    "        last-=1\n",
    "        \n",
    "    while n>0:\n",
    "        nums1[last]=nums2[n-1]\n",
    "        n-=1\n",
    "        last-=1\n",
    "        \n",
    "                \n",
    "        \n",
    "            \n",
    "    print(nums1)\n",
    "        "
   ]
  },
  {
   "cell_type": "code",
   "execution_count": 54,
   "id": "91447bbb",
   "metadata": {},
   "outputs": [],
   "source": [
    "l1_test=[1,2,3,0,0,0]\n",
    "l1_test_b=[0]\n",
    "m_test=3\n",
    "m_test_b=0\n",
    "l2_test=[2,5,6]\n",
    "l2_test_b=[1]\n",
    "n_test=3\n",
    "n_test_b=1"
   ]
  },
  {
   "cell_type": "code",
   "execution_count": 55,
   "id": "0e612205",
   "metadata": {},
   "outputs": [
    {
     "name": "stdout",
     "output_type": "stream",
     "text": [
      "[1, 2, 2, 3, 5, 6]\n"
     ]
    }
   ],
   "source": [
    "better_merge_sorted_array(nums1=l1_test,nums2=l2_test,m=m_test,n=n_test)"
   ]
  },
  {
   "cell_type": "code",
   "execution_count": 56,
   "id": "6b9ff056",
   "metadata": {},
   "outputs": [
    {
     "name": "stdout",
     "output_type": "stream",
     "text": [
      "[1]\n"
     ]
    }
   ],
   "source": [
    "better_merge_sorted_array(nums1=l1_test_b,nums2=l2_test_b,m=m_test_b,n=n_test_b)"
   ]
  },
  {
   "cell_type": "code",
   "execution_count": null,
   "id": "5f1c3b95",
   "metadata": {},
   "outputs": [],
   "source": []
  }
 ],
 "metadata": {
  "kernelspec": {
   "display_name": "Python 3",
   "language": "python",
   "name": "python3"
  },
  "language_info": {
   "codemirror_mode": {
    "name": "ipython",
    "version": 3
   },
   "file_extension": ".py",
   "mimetype": "text/x-python",
   "name": "python",
   "nbconvert_exporter": "python",
   "pygments_lexer": "ipython3",
   "version": "3.8.8"
  }
 },
 "nbformat": 4,
 "nbformat_minor": 5
}
