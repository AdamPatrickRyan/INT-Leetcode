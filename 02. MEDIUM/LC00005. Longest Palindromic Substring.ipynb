{
 "cells": [
  {
   "cell_type": "markdown",
   "id": "1d7d7859",
   "metadata": {},
   "source": [
    "Given a string s, return the longest palindromic substring in s.\n",
    "\n",
    "Example:\n",
    "\n",
    "abbacdyh = abba"
   ]
  },
  {
   "cell_type": "code",
   "execution_count": 125,
   "id": "3e9f3651",
   "metadata": {},
   "outputs": [],
   "source": [
    "def longest_palindromic_substring(s):\n",
    "    \"\"\"Find the longest palindromic substring\"\"\"\n",
    "\n",
    "    #----HELPER---#\n",
    "    \n",
    "    #key: For each letter, we need to make an expanding ball arround the letter:\n",
    "    #'abbacdyh'\n",
    "    \n",
    "    #Odd cases:\n",
    "    #'b' -> 'abb'\n",
    "    #'b' -> 'bba'\n",
    "    #'a' -> 'bac'\n",
    "    \n",
    "    #Even cases:\n",
    "    #'ab'\n",
    "    #'bb' -> 'abba' \n",
    "    \n",
    "    def expand_from_centre(string,left_of_ball,right_of_ball,max_right,min_left=0,):\n",
    "        \"\"\"Given an index, checks the legth and right of that index for it\"\"\"\n",
    "        \n",
    "        substring=string[left_of_ball:right_of_ball+1]\n",
    "    \n",
    "        \n",
    "        while left_of_ball>min_left and right_of_ball<max_right:\n",
    "            \n",
    "        print(left_of_ball,right_of_ball)\n",
    "            if string[left_of_ball-1]==string[right_of_ball+1]:\n",
    "                substring='{}{}{}'.format(string[left_of_ball-1],substring,string[right_of_ball+1])\n",
    "                \n",
    "            else:\n",
    "                return substring\n",
    "                \n",
    "            left_of_ball-=1\n",
    "            right_of_ball+=1\n",
    "        \n",
    "        return substring\n",
    "    \n",
    "    \n",
    "    #----END HELPER---#\n",
    "    \n",
    "    length_of_string=len(s)\n",
    "    if length_of_string==0 or length_of_string==1:\n",
    "        return s\n",
    "    \n",
    "    longest_substring,even_substring,odd_substring='','',''\n",
    "    \n",
    "    #Odd Substrings\n",
    "    for index in range(0,length_of_string):\n",
    "        \n",
    "        odd_substring=expand_from_centre(string=s\n",
    "                           ,left_of_ball=index\n",
    "                           ,right_of_ball=index\n",
    "                           ,max_right=length_of_string-1\n",
    "                           ,min_left=0)\n",
    "        \n",
    "        \n",
    "        if len(odd_substring)>len(longest_substring):\n",
    "            longest_substring=odd_substring\n",
    "        \n",
    "        if index < length_of_string-1:\n",
    "            if s[index]==s[index+1]:\n",
    "                even_substring=expand_from_centre(string=s\n",
    "                                   ,left_of_ball=index\n",
    "                                   ,right_of_ball=index+1\n",
    "                                   ,max_right=length_of_string-1\n",
    "                                   ,min_left=0)\n",
    "\n",
    "\n",
    "        \n",
    "\n",
    "        if len(even_substring)>len(longest_substring):\n",
    "            longest_substring=even_substring\n",
    "            \n",
    "    return longest_substring"
   ]
  },
  {
   "cell_type": "code",
   "execution_count": 127,
   "id": "af457c2a",
   "metadata": {},
   "outputs": [
    {
     "name": "stdout",
     "output_type": "stream",
     "text": [
      "1 1\n"
     ]
    },
    {
     "data": {
      "text/plain": [
       "'bb'"
      ]
     },
     "execution_count": 127,
     "metadata": {},
     "output_type": "execute_result"
    }
   ],
   "source": [
    "longest_palindromic_substring(s=\"bba\")"
   ]
  },
  {
   "cell_type": "code",
   "execution_count": null,
   "id": "6e78d4d5",
   "metadata": {},
   "outputs": [],
   "source": []
  }
 ],
 "metadata": {
  "kernelspec": {
   "display_name": "Python 3",
   "language": "python",
   "name": "python3"
  },
  "language_info": {
   "codemirror_mode": {
    "name": "ipython",
    "version": 3
   },
   "file_extension": ".py",
   "mimetype": "text/x-python",
   "name": "python",
   "nbconvert_exporter": "python",
   "pygments_lexer": "ipython3",
   "version": "3.8.8"
  }
 },
 "nbformat": 4,
 "nbformat_minor": 5
}
