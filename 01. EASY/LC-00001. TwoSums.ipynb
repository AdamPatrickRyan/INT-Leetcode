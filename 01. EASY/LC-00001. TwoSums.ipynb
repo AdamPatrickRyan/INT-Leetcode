{
 "cells": [
  {
   "cell_type": "markdown",
   "id": "5ca9e05c",
   "metadata": {},
   "source": [
    "# Two Sum\n",
    "\n",
    "Given an array of integers nums and an integer target, return indices of the two numbers such that they add up to target.\n",
    "\n",
    "You may assume that each input would have exactly one solution, and you may not use the same element twice.\n",
    "\n",
    "You can return the answer in any order.\n",
    "\n",
    "https://leetcode.com/problems/two-sum/"
   ]
  },
  {
   "cell_type": "code",
   "execution_count": 28,
   "id": "5c57b534",
   "metadata": {},
   "outputs": [],
   "source": [
    "def twoSum(nums, target):\n",
    "    \"\"\"Given nums, and a target, return the two indices of the numbers that add to target\"\"\"\n",
    "\n",
    "\n",
    "    seen_numbers=dict({})\n",
    "\n",
    "    for k in range(len(nums)):\n",
    "        \n",
    "        if target-nums[k] in seen_numbers:\n",
    "            return [seen_numbers[target-nums[k]],k]\n",
    "        \n",
    "        else:\n",
    "            seen_numbers[nums[k]]=k\n",
    "            \n",
    "    return []"
   ]
  },
  {
   "cell_type": "code",
   "execution_count": null,
   "id": "aa25f597",
   "metadata": {},
   "outputs": [],
   "source": []
  }
 ],
 "metadata": {
  "kernelspec": {
   "display_name": "Python 3",
   "language": "python",
   "name": "python3"
  },
  "language_info": {
   "codemirror_mode": {
    "name": "ipython",
    "version": 3
   },
   "file_extension": ".py",
   "mimetype": "text/x-python",
   "name": "python",
   "nbconvert_exporter": "python",
   "pygments_lexer": "ipython3",
   "version": "3.8.8"
  }
 },
 "nbformat": 4,
 "nbformat_minor": 5
}
