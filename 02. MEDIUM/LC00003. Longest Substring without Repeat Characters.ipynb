{
 "cells": [
  {
   "cell_type": "markdown",
   "id": "0a3c2f80",
   "metadata": {},
   "source": [
    "Given a string s, find the length of the longest substring without repeating characters."
   ]
  },
  {
   "cell_type": "code",
   "execution_count": 174,
   "id": "cc780414",
   "metadata": {},
   "outputs": [],
   "source": [
    "def lengthOfLongestSubstring(s: str) -> int:\n",
    "    \"\"\"Find the length of the longest substring without repeat characters\"\"\"\n",
    "\n",
    "\n",
    "    if s == \"\":\n",
    "        return 0\n",
    "    \n",
    "    \n",
    "    if len(s) ==1:\n",
    "        return 1\n",
    "\n",
    "    start_index = 0\n",
    "    end_index = 0\n",
    "    max_length = 0\n",
    "    seen_characters=dict({})\n",
    "\n",
    "    for end_index in range(0,len(s)):\n",
    "\n",
    "        character=s[end_index]\n",
    "\n",
    "        #If you have seen the character before:\n",
    "        ##Get the current length and compare to max length\n",
    "        ##Set the start of the window to after the last time you saw that character\n",
    "        ##Set that as the last time you've seen the character\n",
    "\n",
    "        if character in seen_characters:\n",
    "            current_length=end_index - start_index\n",
    "            max_length=max(max_length,current_length)\n",
    "\n",
    "            if start_index<=seen_characters[character]:\n",
    "                start_index=seen_characters[character]+1\n",
    "\n",
    "            seen_characters[character]=end_index\n",
    "\n",
    "        #You haven't seen the character before, so:\n",
    "        ##Add it to the list of seen characters\n",
    "        else:\n",
    "            seen_characters[character]=end_index\n",
    "            \n",
    "    max_length=max(max_length,end_index-start_index+1)\n",
    "\n",
    "    return max_length"
   ]
  },
  {
   "cell_type": "code",
   "execution_count": 172,
   "id": "945ddcb4",
   "metadata": {},
   "outputs": [
    {
     "data": {
      "text/plain": [
       "1"
      ]
     },
     "execution_count": 172,
     "metadata": {},
     "output_type": "execute_result"
    }
   ],
   "source": [
    "lengthOfLongestSubstring(s='s')"
   ]
  },
  {
   "cell_type": "code",
   "execution_count": 173,
   "id": "61341d1d",
   "metadata": {},
   "outputs": [
    {
     "data": {
      "text/plain": [
       "3"
      ]
     },
     "execution_count": 173,
     "metadata": {},
     "output_type": "execute_result"
    }
   ],
   "source": [
    "lengthOfLongestSubstring(s=\"abcab\")"
   ]
  },
  {
   "cell_type": "code",
   "execution_count": 175,
   "id": "4ecc11da",
   "metadata": {},
   "outputs": [],
   "source": [
    "def lengthOfLongestSubstring_betterMemory(s: str) -> int:\n",
    "    \"\"\"Find the length of the longest substring without repeat characters\"\"\"\n",
    "\n",
    "    if s == \"\":\n",
    "        return 0\n",
    "    \n",
    "    \n",
    "    if len(s) ==1:\n",
    "        return 1\n",
    "\n",
    "    start_index = 0\n",
    "    end_index = 0\n",
    "    max_length = 0\n",
    "    seen_characters=dict({})\n",
    "\n",
    "    for end_index in range(0,len(s)):\n",
    "\n",
    "        #If you have seen the character before:\n",
    "        ##Get the current length and compare to max length\n",
    "        ##Set the start of the window to after the last time you saw that character\n",
    "        ##Set that as the last time you've seen the character\n",
    "\n",
    "        if s[end_index] in seen_characters:\n",
    "            max_length=max(max_length,end_index - start_index)\n",
    "\n",
    "            if start_index<=seen_characters[s[end_index]]:\n",
    "                start_index=seen_characters[s[end_index]]+1\n",
    "\n",
    "            seen_characters[s[end_index]]=end_index\n",
    "\n",
    "        #You haven't seen the character before, so:\n",
    "        ##Add it to the list of seen characters\n",
    "        else:\n",
    "            seen_characters[s[end_index]]=end_index\n",
    "            \n",
    "    max_length=max(max_length,end_index-start_index+1)\n",
    "\n",
    "    return max_length"
   ]
  },
  {
   "cell_type": "code",
   "execution_count": 176,
   "id": "80e28327",
   "metadata": {},
   "outputs": [
    {
     "data": {
      "text/plain": [
       "2"
      ]
     },
     "execution_count": 176,
     "metadata": {},
     "output_type": "execute_result"
    }
   ],
   "source": [
    "lengthOfLongestSubstring_betterMemory(\"abbbab\")"
   ]
  },
  {
   "cell_type": "code",
   "execution_count": 180,
   "id": "f4368e25",
   "metadata": {},
   "outputs": [],
   "source": [
    "def longest_substring(s):\n",
    "    \"\"\"A function to find the longest substring of s without repeat characters\"\"\"\n",
    "    \n",
    "    if len(s)==0:\n",
    "        return 0\n",
    "    \n",
    "    if len(s)==1:\n",
    "        return 1\n",
    "    \n",
    "    start_index=0\n",
    "    end_index=0\n",
    "    max_length=0\n",
    "    seen_characters=dict({})\n",
    "    \n",
    "    for end_index in range(0,len(s)):\n",
    "        \n",
    "        if s[end_index] in seen_characters:\n",
    "            max_length=max(max_length,end_index-start_index)\n",
    "            \n",
    "            if start_index<=seen_characters[s[end_index]]:\n",
    "                start_index=seen_characters[s[end_index]]+1\n",
    "                \n",
    "            seen_characters[s[end_index]]=end_index\n",
    "            \n",
    "        else:\n",
    "            seen_characters[s[end_index]]=end_index\n",
    "            \n",
    "    max_length=max(max_length,end_index-start_index+1)\n",
    "    \n",
    "    return max_length\n",
    "            \n",
    "    "
   ]
  },
  {
   "cell_type": "code",
   "execution_count": 179,
   "id": "56951062",
   "metadata": {},
   "outputs": [
    {
     "data": {
      "text/plain": [
       "3"
      ]
     },
     "execution_count": 179,
     "metadata": {},
     "output_type": "execute_result"
    }
   ],
   "source": [
    "longest_substring('abcba')"
   ]
  },
  {
   "cell_type": "code",
   "execution_count": null,
   "id": "b87224bb",
   "metadata": {},
   "outputs": [],
   "source": []
  }
 ],
 "metadata": {
  "kernelspec": {
   "display_name": "Python 3",
   "language": "python",
   "name": "python3"
  },
  "language_info": {
   "codemirror_mode": {
    "name": "ipython",
    "version": 3
   },
   "file_extension": ".py",
   "mimetype": "text/x-python",
   "name": "python",
   "nbconvert_exporter": "python",
   "pygments_lexer": "ipython3",
   "version": "3.8.8"
  }
 },
 "nbformat": 4,
 "nbformat_minor": 5
}
