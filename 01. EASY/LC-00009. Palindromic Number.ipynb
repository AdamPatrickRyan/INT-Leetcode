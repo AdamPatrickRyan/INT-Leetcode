{
 "cells": [
  {
   "cell_type": "markdown",
   "id": "a78e4947",
   "metadata": {},
   "source": [
    "Given an integer x, return true if x is palindrome integer.\n",
    "\n",
    "An integer is a palindrome when it reads the same backward as forward. For example, 121 is palindrome while 123 is not."
   ]
  },
  {
   "cell_type": "code",
   "execution_count": 94,
   "id": "0d5002bf",
   "metadata": {},
   "outputs": [],
   "source": [
    "def isPalindrome(x):\n",
    "    \n",
    "    for num_position in range(len(str(x))//2):\n",
    "        \n",
    "        if str(x)[num_position]==str(x)[-1*(num_position+1)]:\n",
    "            continue\n",
    "        else:\n",
    "            return False\n",
    "        \n",
    "    return True\n",
    "\n",
    "def isPalindrome_NoString(x):\n",
    "    \n",
    "    #x = a_n  10^n + a_{n-1} 10^{n-1} + ...\n",
    "    #x_r = a_n 10^0 + a_{n-1} 10^1\n",
    "    \n",
    "    reverse_x=0\n",
    "    temp_x=x\n",
    "    \n",
    "    while temp_x>0:\n",
    "        \n",
    "        reverse_x=reverse_x*10 + temp_x%10\n",
    "        temp_x=temp_x//10\n",
    "    \n",
    "    \n",
    "    return x==reverse_x"
   ]
  },
  {
   "cell_type": "code",
   "execution_count": 92,
   "id": "62ca3884",
   "metadata": {},
   "outputs": [
    {
     "data": {
      "text/plain": [
       "True"
      ]
     },
     "execution_count": 92,
     "metadata": {},
     "output_type": "execute_result"
    }
   ],
   "source": [
    "isPalindrome(1221)"
   ]
  },
  {
   "cell_type": "code",
   "execution_count": 95,
   "id": "89a83abe",
   "metadata": {},
   "outputs": [
    {
     "data": {
      "text/plain": [
       "True"
      ]
     },
     "execution_count": 95,
     "metadata": {},
     "output_type": "execute_result"
    }
   ],
   "source": [
    "isPalindrome_NoString(1221)"
   ]
  },
  {
   "cell_type": "code",
   "execution_count": 45,
   "id": "acf0314e",
   "metadata": {},
   "outputs": [
    {
     "data": {
      "text/plain": [
       "1"
      ]
     },
     "execution_count": 45,
     "metadata": {},
     "output_type": "execute_result"
    }
   ],
   "source": [
    "121%10"
   ]
  },
  {
   "cell_type": "code",
   "execution_count": 58,
   "id": "5b2fcf0a",
   "metadata": {},
   "outputs": [
    {
     "data": {
      "text/plain": [
       "10"
      ]
     },
     "execution_count": 58,
     "metadata": {},
     "output_type": "execute_result"
    }
   ],
   "source": [
    "10^0"
   ]
  },
  {
   "cell_type": "code",
   "execution_count": null,
   "id": "09773214",
   "metadata": {},
   "outputs": [],
   "source": []
  }
 ],
 "metadata": {
  "kernelspec": {
   "display_name": "Python 3",
   "language": "python",
   "name": "python3"
  },
  "language_info": {
   "codemirror_mode": {
    "name": "ipython",
    "version": 3
   },
   "file_extension": ".py",
   "mimetype": "text/x-python",
   "name": "python",
   "nbconvert_exporter": "python",
   "pygments_lexer": "ipython3",
   "version": "3.8.8"
  }
 },
 "nbformat": 4,
 "nbformat_minor": 5
}
